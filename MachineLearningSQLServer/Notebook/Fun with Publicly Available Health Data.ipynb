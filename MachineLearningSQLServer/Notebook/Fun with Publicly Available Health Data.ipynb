{
 "cells": [
  {
   "cell_type": "markdown",
   "metadata": {},
   "source": [
    "# Fun with puplicly available health data..."
   ]
  },
  {
   "cell_type": "markdown",
   "metadata": {},
   "source": [
    "https://catalog.data.gov/dataset/community-health-status-indicators-chsi-to-combat-obesity-heart-disease-and-cancer"
   ]
  },
  {
   "cell_type": "markdown",
   "metadata": {},
   "source": [
    "# Let's load some data..."
   ]
  },
  {
   "cell_type": "code",
   "execution_count": 9,
   "metadata": {
    "collapsed": true
   },
   "outputs": [],
   "source": [
    "healthDF <- read.csv('../data/VUNERABLEPOPSANDENVHEALTH.csv')"
   ]
  },
  {
   "cell_type": "code",
   "execution_count": 6,
   "metadata": {},
   "outputs": [
    {
     "data": {
      "text/html": [
       "'C:/Users/brcaffer/Documents/GitHub/Professional/Documents/GitHub-Presentations/DataScienceFromAtoZ/Lab'"
      ],
      "text/latex": [
       "'C:/Users/brcaffer/Documents/GitHub/Professional/Documents/GitHub-Presentations/DataScienceFromAtoZ/Lab'"
      ],
      "text/markdown": [
       "'C:/Users/brcaffer/Documents/GitHub/Professional/Documents/GitHub-Presentations/DataScienceFromAtoZ/Lab'"
      ],
      "text/plain": [
       "[1] \"C:/Users/brcaffer/Documents/GitHub/Professional/Documents/GitHub-Presentations/DataScienceFromAtoZ/Lab\""
      ]
     },
     "metadata": {},
     "output_type": "display_data"
    }
   ],
   "source": [
    "getwd()"
   ]
  },
  {
   "cell_type": "code",
   "execution_count": 10,
   "metadata": {},
   "outputs": [
    {
     "data": {
      "text/html": [
       "<table>\n",
       "<thead><tr><th scope=col>State_FIPS_Code</th><th scope=col>County_FIPS_Code</th><th scope=col>CHSI_County_Name</th><th scope=col>CHSI_State_Name</th><th scope=col>CHSI_State_Abbr</th><th scope=col>Strata_ID_Number</th><th scope=col>No_HS_Diploma</th><th scope=col>Unemployed</th><th scope=col>Sev_Work_Disabled</th><th scope=col>Major_Depression</th><th scope=col>...</th><th scope=col>Shig_Rpt_Ind</th><th scope=col>Shig_Exp</th><th scope=col>Toxic_Chem</th><th scope=col>Carbon_Monoxide_Ind</th><th scope=col>Nitrogen_Dioxide_Ind</th><th scope=col>Sulfur_Dioxide_Ind</th><th scope=col>Ozone_Ind</th><th scope=col>Particulate_Matter_Ind</th><th scope=col>Lead_Ind</th><th scope=col>EH_Time_Span</th></tr></thead>\n",
       "<tbody>\n",
       "\t<tr><td>1        </td><td> 1       </td><td>Autauga  </td><td>Alabama  </td><td>AL       </td><td>29       </td><td> 6690    </td><td> 774     </td><td>1727     </td><td>2680     </td><td>...      </td><td>3        </td><td>11       </td><td>2883197  </td><td>1        </td><td>1        </td><td>1        </td><td>1        </td><td>1        </td><td>1        </td><td>1999-2003</td></tr>\n",
       "\t<tr><td>1        </td><td> 3       </td><td>Baldwin  </td><td>Alabama  </td><td>AL       </td><td>16       </td><td>20254    </td><td>2533     </td><td>4933     </td><td>9354     </td><td>...      </td><td>4        </td><td>13       </td><td>  35664  </td><td>1        </td><td>1        </td><td>1        </td><td>2        </td><td>1        </td><td>1        </td><td>2001-2003</td></tr>\n",
       "\t<tr><td>1        </td><td> 5       </td><td>Barbour  </td><td>Alabama  </td><td>AL       </td><td>51       </td><td> 6729    </td><td> 569     </td><td>1302     </td><td>1618     </td><td>...      </td><td>3        </td><td>16       </td><td>  49874  </td><td>1        </td><td>1        </td><td>1        </td><td>1        </td><td>1        </td><td>1        </td><td>1999-2003</td></tr>\n",
       "\t<tr><td>1        </td><td> 7       </td><td>Bibb     </td><td>Alabama  </td><td>AL       </td><td>42       </td><td> 5355    </td><td> 358     </td><td> 900     </td><td>1218     </td><td>...      </td><td>3        </td><td>16       </td><td>   7302  </td><td>1        </td><td>1        </td><td>1        </td><td>1        </td><td>1        </td><td>1        </td><td>1994-2003</td></tr>\n",
       "\t<tr><td>1        </td><td> 9       </td><td>Blount   </td><td>Alabama  </td><td>AL       </td><td>28       </td><td>11181    </td><td> 819     </td><td>2217     </td><td>3164     </td><td>...      </td><td>4        </td><td> 5       </td><td> 889020  </td><td>1        </td><td>1        </td><td>1        </td><td>1        </td><td>1        </td><td>1        </td><td>1999-2003</td></tr>\n",
       "\t<tr><td>1        </td><td>11       </td><td>Bullock  </td><td>Alabama  </td><td>AL       </td><td>75       </td><td> 2848    </td><td> 327     </td><td> 448     </td><td> 626     </td><td>...      </td><td>4        </td><td> 7       </td><td>  -2222  </td><td>1        </td><td>1        </td><td>1        </td><td>1        </td><td>1        </td><td>1        </td><td>1994-2003</td></tr>\n",
       "</tbody>\n",
       "</table>\n"
      ],
      "text/latex": [
       "\\begin{tabular}{r|llllllllllllllllllllllllllll}\n",
       " State\\_FIPS\\_Code & County\\_FIPS\\_Code & CHSI\\_County\\_Name & CHSI\\_State\\_Name & CHSI\\_State\\_Abbr & Strata\\_ID\\_Number & No\\_HS\\_Diploma & Unemployed & Sev\\_Work\\_Disabled & Major\\_Depression & ... & Shig\\_Rpt\\_Ind & Shig\\_Exp & Toxic\\_Chem & Carbon\\_Monoxide\\_Ind & Nitrogen\\_Dioxide\\_Ind & Sulfur\\_Dioxide\\_Ind & Ozone\\_Ind & Particulate\\_Matter\\_Ind & Lead\\_Ind & EH\\_Time\\_Span\\\\\n",
       "\\hline\n",
       "\t 1         &  1        & Autauga   & Alabama   & AL        & 29        &  6690     &  774      & 1727      & 2680      & ...       & 3         & 11        & 2883197   & 1         & 1         & 1         & 1         & 1         & 1         & 1999-2003\\\\\n",
       "\t 1         &  3        & Baldwin   & Alabama   & AL        & 16        & 20254     & 2533      & 4933      & 9354      & ...       & 4         & 13        &   35664   & 1         & 1         & 1         & 2         & 1         & 1         & 2001-2003\\\\\n",
       "\t 1         &  5        & Barbour   & Alabama   & AL        & 51        &  6729     &  569      & 1302      & 1618      & ...       & 3         & 16        &   49874   & 1         & 1         & 1         & 1         & 1         & 1         & 1999-2003\\\\\n",
       "\t 1         &  7        & Bibb      & Alabama   & AL        & 42        &  5355     &  358      &  900      & 1218      & ...       & 3         & 16        &    7302   & 1         & 1         & 1         & 1         & 1         & 1         & 1994-2003\\\\\n",
       "\t 1         &  9        & Blount    & Alabama   & AL        & 28        & 11181     &  819      & 2217      & 3164      & ...       & 4         &  5        &  889020   & 1         & 1         & 1         & 1         & 1         & 1         & 1999-2003\\\\\n",
       "\t 1         & 11        & Bullock   & Alabama   & AL        & 75        &  2848     &  327      &  448      &  626      & ...       & 4         &  7        &   -2222   & 1         & 1         & 1         & 1         & 1         & 1         & 1994-2003\\\\\n",
       "\\end{tabular}\n"
      ],
      "text/markdown": [
       "\n",
       "State_FIPS_Code | County_FIPS_Code | CHSI_County_Name | CHSI_State_Name | CHSI_State_Abbr | Strata_ID_Number | No_HS_Diploma | Unemployed | Sev_Work_Disabled | Major_Depression | ... | Shig_Rpt_Ind | Shig_Exp | Toxic_Chem | Carbon_Monoxide_Ind | Nitrogen_Dioxide_Ind | Sulfur_Dioxide_Ind | Ozone_Ind | Particulate_Matter_Ind | Lead_Ind | EH_Time_Span | \n",
       "|---|---|---|---|---|---|\n",
       "| 1         |  1        | Autauga   | Alabama   | AL        | 29        |  6690     |  774      | 1727      | 2680      | ...       | 3         | 11        | 2883197   | 1         | 1         | 1         | 1         | 1         | 1         | 1999-2003 | \n",
       "| 1         |  3        | Baldwin   | Alabama   | AL        | 16        | 20254     | 2533      | 4933      | 9354      | ...       | 4         | 13        |   35664   | 1         | 1         | 1         | 2         | 1         | 1         | 2001-2003 | \n",
       "| 1         |  5        | Barbour   | Alabama   | AL        | 51        |  6729     |  569      | 1302      | 1618      | ...       | 3         | 16        |   49874   | 1         | 1         | 1         | 1         | 1         | 1         | 1999-2003 | \n",
       "| 1         |  7        | Bibb      | Alabama   | AL        | 42        |  5355     |  358      |  900      | 1218      | ...       | 3         | 16        |    7302   | 1         | 1         | 1         | 1         | 1         | 1         | 1994-2003 | \n",
       "| 1         |  9        | Blount    | Alabama   | AL        | 28        | 11181     |  819      | 2217      | 3164      | ...       | 4         |  5        |  889020   | 1         | 1         | 1         | 1         | 1         | 1         | 1999-2003 | \n",
       "| 1         | 11        | Bullock   | Alabama   | AL        | 75        |  2848     |  327      |  448      |  626      | ...       | 4         |  7        |   -2222   | 1         | 1         | 1         | 1         | 1         | 1         | 1994-2003 | \n",
       "\n",
       "\n"
      ],
      "text/plain": [
       "  State_FIPS_Code County_FIPS_Code CHSI_County_Name CHSI_State_Name\n",
       "1 1                1               Autauga          Alabama        \n",
       "2 1                3               Baldwin          Alabama        \n",
       "3 1                5               Barbour          Alabama        \n",
       "4 1                7               Bibb             Alabama        \n",
       "5 1                9               Blount           Alabama        \n",
       "6 1               11               Bullock          Alabama        \n",
       "  CHSI_State_Abbr Strata_ID_Number No_HS_Diploma Unemployed Sev_Work_Disabled\n",
       "1 AL              29                6690          774       1727             \n",
       "2 AL              16               20254         2533       4933             \n",
       "3 AL              51                6729          569       1302             \n",
       "4 AL              42                5355          358        900             \n",
       "5 AL              28               11181          819       2217             \n",
       "6 AL              75                2848          327        448             \n",
       "  Major_Depression ... Shig_Rpt_Ind Shig_Exp Toxic_Chem Carbon_Monoxide_Ind\n",
       "1 2680             ... 3            11       2883197    1                  \n",
       "2 9354             ... 4            13         35664    1                  \n",
       "3 1618             ... 3            16         49874    1                  \n",
       "4 1218             ... 3            16          7302    1                  \n",
       "5 3164             ... 4             5        889020    1                  \n",
       "6  626             ... 4             7         -2222    1                  \n",
       "  Nitrogen_Dioxide_Ind Sulfur_Dioxide_Ind Ozone_Ind Particulate_Matter_Ind\n",
       "1 1                    1                  1         1                     \n",
       "2 1                    1                  2         1                     \n",
       "3 1                    1                  1         1                     \n",
       "4 1                    1                  1         1                     \n",
       "5 1                    1                  1         1                     \n",
       "6 1                    1                  1         1                     \n",
       "  Lead_Ind EH_Time_Span\n",
       "1 1        1999-2003   \n",
       "2 1        2001-2003   \n",
       "3 1        1999-2003   \n",
       "4 1        1994-2003   \n",
       "5 1        1999-2003   \n",
       "6 1        1994-2003   "
      ]
     },
     "metadata": {},
     "output_type": "display_data"
    }
   ],
   "source": [
    "head(healthDF)"
   ]
  },
  {
   "cell_type": "code",
   "execution_count": 11,
   "metadata": {},
   "outputs": [
    {
     "name": "stderr",
     "output_type": "stream",
     "text": [
      "Installing package into 'C:/Users/brcaffer/Documents/R/win-library/3.4'\n",
      "(as 'lib' is unspecified)\n"
     ]
    },
    {
     "ename": "ERROR",
     "evalue": "Error in contrib.url(repos, \"source\"): trying to use CRAN without setting a mirror\n",
     "output_type": "error",
     "traceback": [
      "Error in contrib.url(repos, \"source\"): trying to use CRAN without setting a mirror\nTraceback:\n",
      "1. install.packages(\"sqldf\")",
      "2. contrib.url(repos, \"source\")",
      "3. stop(\"trying to use CRAN without setting a mirror\")"
     ]
    }
   ],
   "source": [
    "install.packages('sqldf')"
   ]
  },
  {
   "cell_type": "code",
   "execution_count": 13,
   "metadata": {},
   "outputs": [
    {
     "name": "stderr",
     "output_type": "stream",
     "text": [
      "Loading required package: gsubfn\n",
      "Loading required package: proto\n",
      "Loading required package: RSQLite\n"
     ]
    }
   ],
   "source": [
    "library(sqldf)"
   ]
  },
  {
   "cell_type": "code",
   "execution_count": 16,
   "metadata": {},
   "outputs": [
    {
     "data": {
      "text/html": [
       "<table>\n",
       "<thead><tr><th scope=col>State_FIPS_Code</th><th scope=col>County_FIPS_Code</th><th scope=col>CHSI_County_Name</th><th scope=col>CHSI_State_Name</th><th scope=col>CHSI_State_Abbr</th><th scope=col>Strata_ID_Number</th><th scope=col>No_HS_Diploma</th><th scope=col>Unemployed</th><th scope=col>Sev_Work_Disabled</th><th scope=col>Major_Depression</th><th scope=col>...</th><th scope=col>Shig_Rpt_Ind</th><th scope=col>Shig_Exp</th><th scope=col>Toxic_Chem</th><th scope=col>Carbon_Monoxide_Ind</th><th scope=col>Nitrogen_Dioxide_Ind</th><th scope=col>Sulfur_Dioxide_Ind</th><th scope=col>Ozone_Ind</th><th scope=col>Particulate_Matter_Ind</th><th scope=col>Lead_Ind</th><th scope=col>EH_Time_Span</th></tr></thead>\n",
       "<tbody>\n",
       "\t<tr><td>1        </td><td> 1       </td><td>Autauga  </td><td>Alabama  </td><td>AL       </td><td>29       </td><td> 6690    </td><td> 774     </td><td>1727     </td><td>2680     </td><td>...      </td><td>3        </td><td>11       </td><td>2883197  </td><td>1        </td><td>1        </td><td>1        </td><td>1        </td><td>1        </td><td>1        </td><td>1999-2003</td></tr>\n",
       "\t<tr><td>1        </td><td> 3       </td><td>Baldwin  </td><td>Alabama  </td><td>AL       </td><td>16       </td><td>20254    </td><td>2533     </td><td>4933     </td><td>9354     </td><td>...      </td><td>4        </td><td>13       </td><td>  35664  </td><td>1        </td><td>1        </td><td>1        </td><td>2        </td><td>1        </td><td>1        </td><td>2001-2003</td></tr>\n",
       "\t<tr><td>1        </td><td> 5       </td><td>Barbour  </td><td>Alabama  </td><td>AL       </td><td>51       </td><td> 6729    </td><td> 569     </td><td>1302     </td><td>1618     </td><td>...      </td><td>3        </td><td>16       </td><td>  49874  </td><td>1        </td><td>1        </td><td>1        </td><td>1        </td><td>1        </td><td>1        </td><td>1999-2003</td></tr>\n",
       "\t<tr><td>1        </td><td> 7       </td><td>Bibb     </td><td>Alabama  </td><td>AL       </td><td>42       </td><td> 5355    </td><td> 358     </td><td> 900     </td><td>1218     </td><td>...      </td><td>3        </td><td>16       </td><td>   7302  </td><td>1        </td><td>1        </td><td>1        </td><td>1        </td><td>1        </td><td>1        </td><td>1994-2003</td></tr>\n",
       "\t<tr><td>1        </td><td> 9       </td><td>Blount   </td><td>Alabama  </td><td>AL       </td><td>28       </td><td>11181    </td><td> 819     </td><td>2217     </td><td>3164     </td><td>...      </td><td>4        </td><td> 5       </td><td> 889020  </td><td>1        </td><td>1        </td><td>1        </td><td>1        </td><td>1        </td><td>1        </td><td>1999-2003</td></tr>\n",
       "\t<tr><td>1        </td><td>11       </td><td>Bullock  </td><td>Alabama  </td><td>AL       </td><td>75       </td><td> 2848    </td><td> 327     </td><td> 448     </td><td> 626     </td><td>...      </td><td>4        </td><td> 7       </td><td>  -2222  </td><td>1        </td><td>1        </td><td>1        </td><td>1        </td><td>1        </td><td>1        </td><td>1994-2003</td></tr>\n",
       "\t<tr><td>1        </td><td>13       </td><td>Butler   </td><td>Alabama  </td><td>AL       </td><td>76       </td><td> 4363    </td><td> 537     </td><td> 976     </td><td>1164     </td><td>...      </td><td>3        </td><td>17       </td><td>  98136  </td><td>1        </td><td>1        </td><td>1        </td><td>1        </td><td>1        </td><td>1        </td><td>1994-2003</td></tr>\n",
       "\t<tr><td>1        </td><td>15       </td><td>Calhoun  </td><td>Alabama  </td><td>AL       </td><td> 6       </td><td>19546    </td><td>2182     </td><td>5722     </td><td>6400     </td><td>...      </td><td>4        </td><td>33       </td><td> 808521  </td><td>1        </td><td>1        </td><td>1        </td><td>1        </td><td>1        </td><td>1        </td><td>2001-2003</td></tr>\n",
       "\t<tr><td>1        </td><td>17       </td><td>Chambers </td><td>Alabama  </td><td>AL       </td><td>50       </td><td> 8718    </td><td> 849     </td><td>1470     </td><td>2005     </td><td>...      </td><td>3        </td><td> 9       </td><td> 276636  </td><td>1        </td><td>1        </td><td>1        </td><td>1        </td><td>1        </td><td>1        </td><td>1999-2003</td></tr>\n",
       "\t<tr><td>1        </td><td>19       </td><td>Cherokee </td><td>Alabama  </td><td>AL       </td><td>64       </td><td> 6398    </td><td> 464     </td><td>1154     </td><td>1436     </td><td>...      </td><td>4        </td><td> 9       </td><td>   7077  </td><td>1        </td><td>1        </td><td>1        </td><td>1        </td><td>1        </td><td>1        </td><td>1994-2003</td></tr>\n",
       "\t<tr><td>1        </td><td>21       </td><td>Chilton  </td><td>Alabama  </td><td>AL       </td><td>32       </td><td> 9484    </td><td> 685     </td><td>1887     </td><td>2355     </td><td>...      </td><td>3        </td><td> 8       </td><td>  20846  </td><td>1        </td><td>1        </td><td>1        </td><td>1        </td><td>1        </td><td>1        </td><td>1999-2003</td></tr>\n",
       "\t<tr><td>1        </td><td>23       </td><td>Choctaw  </td><td>Alabama  </td><td>AL       </td><td>66       </td><td> 3499    </td><td> 325     </td><td> 589     </td><td> 837     </td><td>...      </td><td>3        </td><td>24       </td><td>1997045  </td><td>1        </td><td>1        </td><td>1        </td><td>1        </td><td>1        </td><td>1        </td><td>1994-2003</td></tr>\n",
       "\t<tr><td>1        </td><td>25       </td><td>Clarke   </td><td>Alabama  </td><td>AL       </td><td>51       </td><td> 5196    </td><td> 594     </td><td> 972     </td><td>1494     </td><td>...      </td><td>3        </td><td>15       </td><td> 545514  </td><td>1        </td><td>1        </td><td>1        </td><td>1        </td><td>1        </td><td>1        </td><td>1999-2003</td></tr>\n",
       "\t<tr><td>1        </td><td>27       </td><td>Clay     </td><td>Alabama  </td><td>AL       </td><td>63       </td><td> 3333    </td><td> 266     </td><td> 624     </td><td> 814     </td><td>...      </td><td>3        </td><td> 4       </td><td> 209084  </td><td>1        </td><td>1        </td><td>1        </td><td>1        </td><td>1        </td><td>1        </td><td>1994-2003</td></tr>\n",
       "\t<tr><td>1        </td><td>29       </td><td>Cleburne </td><td>Alabama  </td><td>AL       </td><td>41       </td><td> 3695    </td><td> 234     </td><td> 597     </td><td> 833     </td><td>...      </td><td>3        </td><td>12       </td><td> 869963  </td><td>1        </td><td>1        </td><td>1        </td><td>1        </td><td>1        </td><td>1        </td><td>1994-2003</td></tr>\n",
       "\t<tr><td>1        </td><td>31       </td><td>Coffee   </td><td>Alabama  </td><td>AL       </td><td>32       </td><td> 8316    </td><td> 694     </td><td>1940     </td><td>2590     </td><td>...      </td><td>4        </td><td> 9       </td><td>1002559  </td><td>1        </td><td>1        </td><td>1        </td><td>1        </td><td>1        </td><td>1        </td><td>1999-2003</td></tr>\n",
       "\t<tr><td>1        </td><td>33       </td><td>Colbert  </td><td>Alabama  </td><td>AL       </td><td>21       </td><td>10160    </td><td>1203     </td><td>2463     </td><td>3162     </td><td>...      </td><td>3        </td><td> 8       </td><td>5860561  </td><td>1        </td><td>1        </td><td>1        </td><td>1        </td><td>1        </td><td>1        </td><td>1999-2003</td></tr>\n",
       "\t<tr><td>1        </td><td>35       </td><td>Conecuh  </td><td>Alabama  </td><td>AL       </td><td>75       </td><td> 2872    </td><td> 296     </td><td> 576     </td><td> 746     </td><td>...      </td><td>3        </td><td> 8       </td><td>  77918  </td><td>1        </td><td>1        </td><td>1        </td><td>1        </td><td>1        </td><td>1        </td><td>1994-2003</td></tr>\n",
       "\t<tr><td>1        </td><td>37       </td><td>Coosa    </td><td>Alabama  </td><td>AL       </td><td>41       </td><td> 2707    </td><td> 231     </td><td> 422     </td><td> 645     </td><td>...      </td><td>3        </td><td>11       </td><td>  25245  </td><td>1        </td><td>1        </td><td>1        </td><td>1        </td><td>1        </td><td>1        </td><td>1994-2003</td></tr>\n",
       "\t<tr><td>1        </td><td>39       </td><td>Covington</td><td>Alabama  </td><td>AL       </td><td>35       </td><td> 8116    </td><td> 686     </td><td>1763     </td><td>2131     </td><td>...      </td><td>3        </td><td>22       </td><td>   5291  </td><td>1        </td><td>1        </td><td>1        </td><td>1        </td><td>1        </td><td>1        </td><td>1999-2003</td></tr>\n",
       "</tbody>\n",
       "</table>\n"
      ],
      "text/latex": [
       "\\begin{tabular}{r|llllllllllllllllllllllllllll}\n",
       " State\\_FIPS\\_Code & County\\_FIPS\\_Code & CHSI\\_County\\_Name & CHSI\\_State\\_Name & CHSI\\_State\\_Abbr & Strata\\_ID\\_Number & No\\_HS\\_Diploma & Unemployed & Sev\\_Work\\_Disabled & Major\\_Depression & ... & Shig\\_Rpt\\_Ind & Shig\\_Exp & Toxic\\_Chem & Carbon\\_Monoxide\\_Ind & Nitrogen\\_Dioxide\\_Ind & Sulfur\\_Dioxide\\_Ind & Ozone\\_Ind & Particulate\\_Matter\\_Ind & Lead\\_Ind & EH\\_Time\\_Span\\\\\n",
       "\\hline\n",
       "\t 1         &  1        & Autauga   & Alabama   & AL        & 29        &  6690     &  774      & 1727      & 2680      & ...       & 3         & 11        & 2883197   & 1         & 1         & 1         & 1         & 1         & 1         & 1999-2003\\\\\n",
       "\t 1         &  3        & Baldwin   & Alabama   & AL        & 16        & 20254     & 2533      & 4933      & 9354      & ...       & 4         & 13        &   35664   & 1         & 1         & 1         & 2         & 1         & 1         & 2001-2003\\\\\n",
       "\t 1         &  5        & Barbour   & Alabama   & AL        & 51        &  6729     &  569      & 1302      & 1618      & ...       & 3         & 16        &   49874   & 1         & 1         & 1         & 1         & 1         & 1         & 1999-2003\\\\\n",
       "\t 1         &  7        & Bibb      & Alabama   & AL        & 42        &  5355     &  358      &  900      & 1218      & ...       & 3         & 16        &    7302   & 1         & 1         & 1         & 1         & 1         & 1         & 1994-2003\\\\\n",
       "\t 1         &  9        & Blount    & Alabama   & AL        & 28        & 11181     &  819      & 2217      & 3164      & ...       & 4         &  5        &  889020   & 1         & 1         & 1         & 1         & 1         & 1         & 1999-2003\\\\\n",
       "\t 1         & 11        & Bullock   & Alabama   & AL        & 75        &  2848     &  327      &  448      &  626      & ...       & 4         &  7        &   -2222   & 1         & 1         & 1         & 1         & 1         & 1         & 1994-2003\\\\\n",
       "\t 1         & 13        & Butler    & Alabama   & AL        & 76        &  4363     &  537      &  976      & 1164      & ...       & 3         & 17        &   98136   & 1         & 1         & 1         & 1         & 1         & 1         & 1994-2003\\\\\n",
       "\t 1         & 15        & Calhoun   & Alabama   & AL        &  6        & 19546     & 2182      & 5722      & 6400      & ...       & 4         & 33        &  808521   & 1         & 1         & 1         & 1         & 1         & 1         & 2001-2003\\\\\n",
       "\t 1         & 17        & Chambers  & Alabama   & AL        & 50        &  8718     &  849      & 1470      & 2005      & ...       & 3         &  9        &  276636   & 1         & 1         & 1         & 1         & 1         & 1         & 1999-2003\\\\\n",
       "\t 1         & 19        & Cherokee  & Alabama   & AL        & 64        &  6398     &  464      & 1154      & 1436      & ...       & 4         &  9        &    7077   & 1         & 1         & 1         & 1         & 1         & 1         & 1994-2003\\\\\n",
       "\t 1         & 21        & Chilton   & Alabama   & AL        & 32        &  9484     &  685      & 1887      & 2355      & ...       & 3         &  8        &   20846   & 1         & 1         & 1         & 1         & 1         & 1         & 1999-2003\\\\\n",
       "\t 1         & 23        & Choctaw   & Alabama   & AL        & 66        &  3499     &  325      &  589      &  837      & ...       & 3         & 24        & 1997045   & 1         & 1         & 1         & 1         & 1         & 1         & 1994-2003\\\\\n",
       "\t 1         & 25        & Clarke    & Alabama   & AL        & 51        &  5196     &  594      &  972      & 1494      & ...       & 3         & 15        &  545514   & 1         & 1         & 1         & 1         & 1         & 1         & 1999-2003\\\\\n",
       "\t 1         & 27        & Clay      & Alabama   & AL        & 63        &  3333     &  266      &  624      &  814      & ...       & 3         &  4        &  209084   & 1         & 1         & 1         & 1         & 1         & 1         & 1994-2003\\\\\n",
       "\t 1         & 29        & Cleburne  & Alabama   & AL        & 41        &  3695     &  234      &  597      &  833      & ...       & 3         & 12        &  869963   & 1         & 1         & 1         & 1         & 1         & 1         & 1994-2003\\\\\n",
       "\t 1         & 31        & Coffee    & Alabama   & AL        & 32        &  8316     &  694      & 1940      & 2590      & ...       & 4         &  9        & 1002559   & 1         & 1         & 1         & 1         & 1         & 1         & 1999-2003\\\\\n",
       "\t 1         & 33        & Colbert   & Alabama   & AL        & 21        & 10160     & 1203      & 2463      & 3162      & ...       & 3         &  8        & 5860561   & 1         & 1         & 1         & 1         & 1         & 1         & 1999-2003\\\\\n",
       "\t 1         & 35        & Conecuh   & Alabama   & AL        & 75        &  2872     &  296      &  576      &  746      & ...       & 3         &  8        &   77918   & 1         & 1         & 1         & 1         & 1         & 1         & 1994-2003\\\\\n",
       "\t 1         & 37        & Coosa     & Alabama   & AL        & 41        &  2707     &  231      &  422      &  645      & ...       & 3         & 11        &   25245   & 1         & 1         & 1         & 1         & 1         & 1         & 1994-2003\\\\\n",
       "\t 1         & 39        & Covington & Alabama   & AL        & 35        &  8116     &  686      & 1763      & 2131      & ...       & 3         & 22        &    5291   & 1         & 1         & 1         & 1         & 1         & 1         & 1999-2003\\\\\n",
       "\\end{tabular}\n"
      ],
      "text/markdown": [
       "\n",
       "State_FIPS_Code | County_FIPS_Code | CHSI_County_Name | CHSI_State_Name | CHSI_State_Abbr | Strata_ID_Number | No_HS_Diploma | Unemployed | Sev_Work_Disabled | Major_Depression | ... | Shig_Rpt_Ind | Shig_Exp | Toxic_Chem | Carbon_Monoxide_Ind | Nitrogen_Dioxide_Ind | Sulfur_Dioxide_Ind | Ozone_Ind | Particulate_Matter_Ind | Lead_Ind | EH_Time_Span | \n",
       "|---|---|---|---|---|---|---|---|---|---|---|---|---|---|---|---|---|---|---|---|\n",
       "| 1         |  1        | Autauga   | Alabama   | AL        | 29        |  6690     |  774      | 1727      | 2680      | ...       | 3         | 11        | 2883197   | 1         | 1         | 1         | 1         | 1         | 1         | 1999-2003 | \n",
       "| 1         |  3        | Baldwin   | Alabama   | AL        | 16        | 20254     | 2533      | 4933      | 9354      | ...       | 4         | 13        |   35664   | 1         | 1         | 1         | 2         | 1         | 1         | 2001-2003 | \n",
       "| 1         |  5        | Barbour   | Alabama   | AL        | 51        |  6729     |  569      | 1302      | 1618      | ...       | 3         | 16        |   49874   | 1         | 1         | 1         | 1         | 1         | 1         | 1999-2003 | \n",
       "| 1         |  7        | Bibb      | Alabama   | AL        | 42        |  5355     |  358      |  900      | 1218      | ...       | 3         | 16        |    7302   | 1         | 1         | 1         | 1         | 1         | 1         | 1994-2003 | \n",
       "| 1         |  9        | Blount    | Alabama   | AL        | 28        | 11181     |  819      | 2217      | 3164      | ...       | 4         |  5        |  889020   | 1         | 1         | 1         | 1         | 1         | 1         | 1999-2003 | \n",
       "| 1         | 11        | Bullock   | Alabama   | AL        | 75        |  2848     |  327      |  448      |  626      | ...       | 4         |  7        |   -2222   | 1         | 1         | 1         | 1         | 1         | 1         | 1994-2003 | \n",
       "| 1         | 13        | Butler    | Alabama   | AL        | 76        |  4363     |  537      |  976      | 1164      | ...       | 3         | 17        |   98136   | 1         | 1         | 1         | 1         | 1         | 1         | 1994-2003 | \n",
       "| 1         | 15        | Calhoun   | Alabama   | AL        |  6        | 19546     | 2182      | 5722      | 6400      | ...       | 4         | 33        |  808521   | 1         | 1         | 1         | 1         | 1         | 1         | 2001-2003 | \n",
       "| 1         | 17        | Chambers  | Alabama   | AL        | 50        |  8718     |  849      | 1470      | 2005      | ...       | 3         |  9        |  276636   | 1         | 1         | 1         | 1         | 1         | 1         | 1999-2003 | \n",
       "| 1         | 19        | Cherokee  | Alabama   | AL        | 64        |  6398     |  464      | 1154      | 1436      | ...       | 4         |  9        |    7077   | 1         | 1         | 1         | 1         | 1         | 1         | 1994-2003 | \n",
       "| 1         | 21        | Chilton   | Alabama   | AL        | 32        |  9484     |  685      | 1887      | 2355      | ...       | 3         |  8        |   20846   | 1         | 1         | 1         | 1         | 1         | 1         | 1999-2003 | \n",
       "| 1         | 23        | Choctaw   | Alabama   | AL        | 66        |  3499     |  325      |  589      |  837      | ...       | 3         | 24        | 1997045   | 1         | 1         | 1         | 1         | 1         | 1         | 1994-2003 | \n",
       "| 1         | 25        | Clarke    | Alabama   | AL        | 51        |  5196     |  594      |  972      | 1494      | ...       | 3         | 15        |  545514   | 1         | 1         | 1         | 1         | 1         | 1         | 1999-2003 | \n",
       "| 1         | 27        | Clay      | Alabama   | AL        | 63        |  3333     |  266      |  624      |  814      | ...       | 3         |  4        |  209084   | 1         | 1         | 1         | 1         | 1         | 1         | 1994-2003 | \n",
       "| 1         | 29        | Cleburne  | Alabama   | AL        | 41        |  3695     |  234      |  597      |  833      | ...       | 3         | 12        |  869963   | 1         | 1         | 1         | 1         | 1         | 1         | 1994-2003 | \n",
       "| 1         | 31        | Coffee    | Alabama   | AL        | 32        |  8316     |  694      | 1940      | 2590      | ...       | 4         |  9        | 1002559   | 1         | 1         | 1         | 1         | 1         | 1         | 1999-2003 | \n",
       "| 1         | 33        | Colbert   | Alabama   | AL        | 21        | 10160     | 1203      | 2463      | 3162      | ...       | 3         |  8        | 5860561   | 1         | 1         | 1         | 1         | 1         | 1         | 1999-2003 | \n",
       "| 1         | 35        | Conecuh   | Alabama   | AL        | 75        |  2872     |  296      |  576      |  746      | ...       | 3         |  8        |   77918   | 1         | 1         | 1         | 1         | 1         | 1         | 1994-2003 | \n",
       "| 1         | 37        | Coosa     | Alabama   | AL        | 41        |  2707     |  231      |  422      |  645      | ...       | 3         | 11        |   25245   | 1         | 1         | 1         | 1         | 1         | 1         | 1994-2003 | \n",
       "| 1         | 39        | Covington | Alabama   | AL        | 35        |  8116     |  686      | 1763      | 2131      | ...       | 3         | 22        |    5291   | 1         | 1         | 1         | 1         | 1         | 1         | 1999-2003 | \n",
       "\n",
       "\n"
      ],
      "text/plain": [
       "   State_FIPS_Code County_FIPS_Code CHSI_County_Name CHSI_State_Name\n",
       "1  1                1               Autauga          Alabama        \n",
       "2  1                3               Baldwin          Alabama        \n",
       "3  1                5               Barbour          Alabama        \n",
       "4  1                7               Bibb             Alabama        \n",
       "5  1                9               Blount           Alabama        \n",
       "6  1               11               Bullock          Alabama        \n",
       "7  1               13               Butler           Alabama        \n",
       "8  1               15               Calhoun          Alabama        \n",
       "9  1               17               Chambers         Alabama        \n",
       "10 1               19               Cherokee         Alabama        \n",
       "11 1               21               Chilton          Alabama        \n",
       "12 1               23               Choctaw          Alabama        \n",
       "13 1               25               Clarke           Alabama        \n",
       "14 1               27               Clay             Alabama        \n",
       "15 1               29               Cleburne         Alabama        \n",
       "16 1               31               Coffee           Alabama        \n",
       "17 1               33               Colbert          Alabama        \n",
       "18 1               35               Conecuh          Alabama        \n",
       "19 1               37               Coosa            Alabama        \n",
       "20 1               39               Covington        Alabama        \n",
       "   CHSI_State_Abbr Strata_ID_Number No_HS_Diploma Unemployed Sev_Work_Disabled\n",
       "1  AL              29                6690          774       1727             \n",
       "2  AL              16               20254         2533       4933             \n",
       "3  AL              51                6729          569       1302             \n",
       "4  AL              42                5355          358        900             \n",
       "5  AL              28               11181          819       2217             \n",
       "6  AL              75                2848          327        448             \n",
       "7  AL              76                4363          537        976             \n",
       "8  AL               6               19546         2182       5722             \n",
       "9  AL              50                8718          849       1470             \n",
       "10 AL              64                6398          464       1154             \n",
       "11 AL              32                9484          685       1887             \n",
       "12 AL              66                3499          325        589             \n",
       "13 AL              51                5196          594        972             \n",
       "14 AL              63                3333          266        624             \n",
       "15 AL              41                3695          234        597             \n",
       "16 AL              32                8316          694       1940             \n",
       "17 AL              21               10160         1203       2463             \n",
       "18 AL              75                2872          296        576             \n",
       "19 AL              41                2707          231        422             \n",
       "20 AL              35                8116          686       1763             \n",
       "   Major_Depression ... Shig_Rpt_Ind Shig_Exp Toxic_Chem Carbon_Monoxide_Ind\n",
       "1  2680             ... 3            11       2883197    1                  \n",
       "2  9354             ... 4            13         35664    1                  \n",
       "3  1618             ... 3            16         49874    1                  \n",
       "4  1218             ... 3            16          7302    1                  \n",
       "5  3164             ... 4             5        889020    1                  \n",
       "6   626             ... 4             7         -2222    1                  \n",
       "7  1164             ... 3            17         98136    1                  \n",
       "8  6400             ... 4            33        808521    1                  \n",
       "9  2005             ... 3             9        276636    1                  \n",
       "10 1436             ... 4             9          7077    1                  \n",
       "11 2355             ... 3             8         20846    1                  \n",
       "12  837             ... 3            24       1997045    1                  \n",
       "13 1494             ... 3            15        545514    1                  \n",
       "14  814             ... 3             4        209084    1                  \n",
       "15  833             ... 3            12        869963    1                  \n",
       "16 2590             ... 4             9       1002559    1                  \n",
       "17 3162             ... 3             8       5860561    1                  \n",
       "18  746             ... 3             8         77918    1                  \n",
       "19  645             ... 3            11         25245    1                  \n",
       "20 2131             ... 3            22          5291    1                  \n",
       "   Nitrogen_Dioxide_Ind Sulfur_Dioxide_Ind Ozone_Ind Particulate_Matter_Ind\n",
       "1  1                    1                  1         1                     \n",
       "2  1                    1                  2         1                     \n",
       "3  1                    1                  1         1                     \n",
       "4  1                    1                  1         1                     \n",
       "5  1                    1                  1         1                     \n",
       "6  1                    1                  1         1                     \n",
       "7  1                    1                  1         1                     \n",
       "8  1                    1                  1         1                     \n",
       "9  1                    1                  1         1                     \n",
       "10 1                    1                  1         1                     \n",
       "11 1                    1                  1         1                     \n",
       "12 1                    1                  1         1                     \n",
       "13 1                    1                  1         1                     \n",
       "14 1                    1                  1         1                     \n",
       "15 1                    1                  1         1                     \n",
       "16 1                    1                  1         1                     \n",
       "17 1                    1                  1         1                     \n",
       "18 1                    1                  1         1                     \n",
       "19 1                    1                  1         1                     \n",
       "20 1                    1                  1         1                     \n",
       "   Lead_Ind EH_Time_Span\n",
       "1  1        1999-2003   \n",
       "2  1        2001-2003   \n",
       "3  1        1999-2003   \n",
       "4  1        1994-2003   \n",
       "5  1        1999-2003   \n",
       "6  1        1994-2003   \n",
       "7  1        1994-2003   \n",
       "8  1        2001-2003   \n",
       "9  1        1999-2003   \n",
       "10 1        1994-2003   \n",
       "11 1        1999-2003   \n",
       "12 1        1994-2003   \n",
       "13 1        1999-2003   \n",
       "14 1        1994-2003   \n",
       "15 1        1994-2003   \n",
       "16 1        1999-2003   \n",
       "17 1        1999-2003   \n",
       "18 1        1994-2003   \n",
       "19 1        1994-2003   \n",
       "20 1        1999-2003   "
      ]
     },
     "metadata": {},
     "output_type": "display_data"
    }
   ],
   "source": [
    "sqldf('select * from healthDF limit 20')"
   ]
  },
  {
   "cell_type": "code",
   "execution_count": 20,
   "metadata": {},
   "outputs": [
    {
     "data": {
      "text/html": [
       "<table>\n",
       "<thead><tr><th scope=col>state</th><th scope=col>county_count</th><th scope=col>avg_disabled</th></tr></thead>\n",
       "<tbody>\n",
       "\t<tr><td>Wyoming</td><td>3141   </td><td>2936.91</td></tr>\n",
       "</tbody>\n",
       "</table>\n"
      ],
      "text/latex": [
       "\\begin{tabular}{r|lll}\n",
       " state & county\\_count & avg\\_disabled\\\\\n",
       "\\hline\n",
       "\t Wyoming & 3141    & 2936.91\\\\\n",
       "\\end{tabular}\n"
      ],
      "text/markdown": [
       "\n",
       "state | county_count | avg_disabled | \n",
       "|---|\n",
       "| Wyoming | 3141    | 2936.91 | \n",
       "\n",
       "\n"
      ],
      "text/plain": [
       "  state   county_count avg_disabled\n",
       "1 Wyoming 3141         2936.91     "
      ]
     },
     "metadata": {},
     "output_type": "display_data"
    }
   ],
   "source": [
    "sqldf('select CHSI_State_Name as state, count(*) as county_count, avg(Sev_Work_Disabled) as avg_disabled from healthDF limit 20')"
   ]
  },
  {
   "cell_type": "markdown",
   "metadata": {},
   "source": [
    "### Task 1: Write a query to return rows with unemployment over 2000 sorted by state and then county"
   ]
  },
  {
   "cell_type": "code",
   "execution_count": 21,
   "metadata": {
    "collapsed": true
   },
   "outputs": [],
   "source": [
    "# Your query below..."
   ]
  },
  {
   "cell_type": "markdown",
   "metadata": {},
   "source": [
    "### Task 2:  Extract the New England states (MA, RI, CT, VT, NH, and ME) and average number of disabled workers by state to a separate data frame named neDF."
   ]
  },
  {
   "cell_type": "code",
   "execution_count": 22,
   "metadata": {
    "collapsed": true
   },
   "outputs": [],
   "source": [
    "# Your query below..."
   ]
  },
  {
   "cell_type": "markdown",
   "metadata": {},
   "source": [
    "## If you have trouble with the task above, use the cell below. "
   ]
  },
  {
   "cell_type": "code",
   "execution_count": 61,
   "metadata": {},
   "outputs": [
    {
     "data": {
      "text/html": [
       "<table>\n",
       "<thead><tr><th scope=col>state</th><th scope=col>state_name</th><th scope=col>avg_disabled</th></tr></thead>\n",
       "<tbody>\n",
       "\t<tr><td>CT           </td><td>Connecticut  </td><td> 9185.00     </td></tr>\n",
       "\t<tr><td>ME           </td><td>Maine        </td><td> 2369.50     </td></tr>\n",
       "\t<tr><td>MA           </td><td>Massachusetts</td><td>11051.79     </td></tr>\n",
       "\t<tr><td>NH           </td><td>New Hampshire</td><td> 2701.00     </td></tr>\n",
       "\t<tr><td>RI           </td><td>Rhode Island </td><td> 6534.20     </td></tr>\n",
       "\t<tr><td>VT           </td><td>Vermont      </td><td>  924.50     </td></tr>\n",
       "</tbody>\n",
       "</table>\n"
      ],
      "text/latex": [
       "\\begin{tabular}{r|lll}\n",
       " state & state\\_name & avg\\_disabled\\\\\n",
       "\\hline\n",
       "\t CT            & Connecticut   &  9185.00     \\\\\n",
       "\t ME            & Maine         &  2369.50     \\\\\n",
       "\t MA            & Massachusetts & 11051.79     \\\\\n",
       "\t NH            & New Hampshire &  2701.00     \\\\\n",
       "\t RI            & Rhode Island  &  6534.20     \\\\\n",
       "\t VT            & Vermont       &   924.50     \\\\\n",
       "\\end{tabular}\n"
      ],
      "text/markdown": [
       "\n",
       "state | state_name | avg_disabled | \n",
       "|---|---|---|---|---|---|\n",
       "| CT            | Connecticut   |  9185.00      | \n",
       "| ME            | Maine         |  2369.50      | \n",
       "| MA            | Massachusetts | 11051.79      | \n",
       "| NH            | New Hampshire |  2701.00      | \n",
       "| RI            | Rhode Island  |  6534.20      | \n",
       "| VT            | Vermont       |   924.50      | \n",
       "\n",
       "\n"
      ],
      "text/plain": [
       "  state state_name    avg_disabled\n",
       "1 CT    Connecticut    9185.00    \n",
       "2 ME    Maine          2369.50    \n",
       "3 MA    Massachusetts 11051.79    \n",
       "4 NH    New Hampshire  2701.00    \n",
       "5 RI    Rhode Island   6534.20    \n",
       "6 VT    Vermont         924.50    "
      ]
     },
     "metadata": {},
     "output_type": "display_data"
    }
   ],
   "source": [
    "neDF <- sqldf(\"select CHSI_State_Abbr as state , CHSI_State_Name as state_name, avg(Sev_Work_Disabled) as avg_disabled from healthDF where CHSI_State_Abbr in  ('CT','MA','ME', 'NH','RI','VT') group by CHSI_State_Name\")\n",
    "\n",
    "neDF"
   ]
  },
  {
   "cell_type": "markdown",
   "metadata": {},
   "source": [
    "### Run the code below which creates a data frame of New England States and the average age. "
   ]
  },
  {
   "cell_type": "code",
   "execution_count": 58,
   "metadata": {},
   "outputs": [
    {
     "data": {
      "text/html": [
       "<table>\n",
       "<thead><tr><th scope=col>nestate</th><th scope=col>neage</th></tr></thead>\n",
       "<tbody>\n",
       "\t<tr><td>MA</td><td>35</td></tr>\n",
       "\t<tr><td>RI</td><td>45</td></tr>\n",
       "\t<tr><td>CT</td><td>62</td></tr>\n",
       "\t<tr><td>VT</td><td>34</td></tr>\n",
       "\t<tr><td>NH</td><td>25</td></tr>\n",
       "\t<tr><td>ME</td><td>66</td></tr>\n",
       "</tbody>\n",
       "</table>\n"
      ],
      "text/latex": [
       "\\begin{tabular}{r|ll}\n",
       " nestate & neage\\\\\n",
       "\\hline\n",
       "\t MA & 35\\\\\n",
       "\t RI & 45\\\\\n",
       "\t CT & 62\\\\\n",
       "\t VT & 34\\\\\n",
       "\t NH & 25\\\\\n",
       "\t ME & 66\\\\\n",
       "\\end{tabular}\n"
      ],
      "text/markdown": [
       "\n",
       "nestate | neage | \n",
       "|---|---|---|---|---|---|\n",
       "| MA | 35 | \n",
       "| RI | 45 | \n",
       "| CT | 62 | \n",
       "| VT | 34 | \n",
       "| NH | 25 | \n",
       "| ME | 66 | \n",
       "\n",
       "\n"
      ],
      "text/plain": [
       "  nestate neage\n",
       "1 MA      35   \n",
       "2 RI      45   \n",
       "3 CT      62   \n",
       "4 VT      34   \n",
       "5 NH      25   \n",
       "6 ME      66   "
      ]
     },
     "metadata": {},
     "output_type": "display_data"
    }
   ],
   "source": [
    "nestate <- c('MA', 'RI', 'CT', 'VT', 'NH', 'ME')\n",
    "neage <- c(35,45,62,34,25,66)\n",
    "\n",
    "neageDF <- data.frame(nestate,neage)\n",
    "neageDF"
   ]
  },
  {
   "cell_type": "markdown",
   "metadata": {},
   "source": [
    "### Write a query that joins your data frame neDF to neageDF and list the State Code, State Name, average disabled workers, and average age sorted by state code. "
   ]
  },
  {
   "cell_type": "code",
   "execution_count": 62,
   "metadata": {},
   "outputs": [
    {
     "data": {
      "text/html": [
       "<table>\n",
       "<thead><tr><th scope=col>state</th><th scope=col>state_name</th><th scope=col>avg_disabled</th><th scope=col>avg_age</th></tr></thead>\n",
       "<tbody>\n",
       "\t<tr><td>CT           </td><td>Connecticut  </td><td> 9185.00     </td><td>62           </td></tr>\n",
       "\t<tr><td>ME           </td><td>Maine        </td><td> 2369.50     </td><td>66           </td></tr>\n",
       "\t<tr><td>MA           </td><td>Massachusetts</td><td>11051.79     </td><td>35           </td></tr>\n",
       "\t<tr><td>NH           </td><td>New Hampshire</td><td> 2701.00     </td><td>25           </td></tr>\n",
       "\t<tr><td>RI           </td><td>Rhode Island </td><td> 6534.20     </td><td>45           </td></tr>\n",
       "\t<tr><td>VT           </td><td>Vermont      </td><td>  924.50     </td><td>34           </td></tr>\n",
       "</tbody>\n",
       "</table>\n"
      ],
      "text/latex": [
       "\\begin{tabular}{r|llll}\n",
       " state & state\\_name & avg\\_disabled & avg\\_age\\\\\n",
       "\\hline\n",
       "\t CT            & Connecticut   &  9185.00      & 62           \\\\\n",
       "\t ME            & Maine         &  2369.50      & 66           \\\\\n",
       "\t MA            & Massachusetts & 11051.79      & 35           \\\\\n",
       "\t NH            & New Hampshire &  2701.00      & 25           \\\\\n",
       "\t RI            & Rhode Island  &  6534.20      & 45           \\\\\n",
       "\t VT            & Vermont       &   924.50      & 34           \\\\\n",
       "\\end{tabular}\n"
      ],
      "text/markdown": [
       "\n",
       "state | state_name | avg_disabled | avg_age | \n",
       "|---|---|---|---|---|---|\n",
       "| CT            | Connecticut   |  9185.00      | 62            | \n",
       "| ME            | Maine         |  2369.50      | 66            | \n",
       "| MA            | Massachusetts | 11051.79      | 35            | \n",
       "| NH            | New Hampshire |  2701.00      | 25            | \n",
       "| RI            | Rhode Island  |  6534.20      | 45            | \n",
       "| VT            | Vermont       |   924.50      | 34            | \n",
       "\n",
       "\n"
      ],
      "text/plain": [
       "  state state_name    avg_disabled avg_age\n",
       "1 CT    Connecticut    9185.00     62     \n",
       "2 ME    Maine          2369.50     66     \n",
       "3 MA    Massachusetts 11051.79     35     \n",
       "4 NH    New Hampshire  2701.00     25     \n",
       "5 RI    Rhode Island   6534.20     45     \n",
       "6 VT    Vermont         924.50     34     "
      ]
     },
     "metadata": {},
     "output_type": "display_data"
    }
   ],
   "source": [
    "sqldf('select state, state_name, avg_disabled, neage as avg_age from neDF, neageDF where neDF.state = neageDF.nestate')"
   ]
  },
  {
   "cell_type": "code",
   "execution_count": 1,
   "metadata": {
    "collapsed": true
   },
   "outputs": [],
   "source": [
    "# Your code here..."
   ]
  },
  {
   "cell_type": "code",
   "execution_count": null,
   "metadata": {
    "collapsed": true
   },
   "outputs": [],
   "source": []
  }
 ],
 "metadata": {
  "kernelspec": {
   "display_name": "R",
   "language": "R",
   "name": "ir"
  },
  "language_info": {
   "codemirror_mode": "r",
   "file_extension": ".r",
   "mimetype": "text/x-r-source",
   "name": "R",
   "pygments_lexer": "r",
   "version": "3.4.3"
  }
 },
 "nbformat": 4,
 "nbformat_minor": 2
}
