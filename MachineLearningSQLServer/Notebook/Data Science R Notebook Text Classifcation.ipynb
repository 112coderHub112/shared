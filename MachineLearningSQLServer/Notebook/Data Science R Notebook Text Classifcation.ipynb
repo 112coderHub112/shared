{
 "cells": [
  {
   "cell_type": "markdown",
   "metadata": {},
   "source": [
    "# Simple Example of Text Classification with R\n",
    "\n",
    "## https://gist.github.com/primaryobjects/094d24084d1045c011b7"
   ]
  },
  {
   "cell_type": "code",
   "execution_count": 3,
   "metadata": {
    "collapsed": true
   },
   "outputs": [],
   "source": [
    "# Install required packages only if missing...\n",
    "if (!('tm' %in% rownames(installed.packages()))){\n",
    "  install.packages('tm')\n",
    "}\n",
    "\n",
    "if (!('SnowballC' %in% rownames(installed.packages()))){\n",
    "  install.packages('SnowballC')\n",
    "}\n",
    "\n",
    "if (!('minqa' %in% rownames(installed.packages()))){\n",
    "  install.packages('minqa')\n",
    "}\n",
    "\n",
    "if (!('e1071' %in% rownames(installed.packages()))){\n",
    "  install.packages('e1071')\n",
    "}"
   ]
  },
  {
   "cell_type": "code",
   "execution_count": 4,
   "metadata": {},
   "outputs": [
    {
     "name": "stderr",
     "output_type": "stream",
     "text": [
      "Warning message:\n",
      "\"package 'minqa' was built under R version 3.4.4\"Warning message:\n",
      "\"package 'e1071' was built under R version 3.4.4\"Warning message:\n",
      "\"package 'caret' was built under R version 3.4.4\"Loading required package: lattice\n",
      "Loading required package: ggplot2\n",
      "Warning message:\n",
      "\"package 'tm' was built under R version 3.4.4\"Loading required package: NLP\n",
      "\n",
      "Attaching package: 'NLP'\n",
      "\n",
      "The following object is masked from 'package:ggplot2':\n",
      "\n",
      "    annotate\n",
      "\n"
     ]
    }
   ],
   "source": [
    "# Load the packages...\n",
    "\n",
    "library('SnowballC')\n",
    "library('minqa')\n",
    "library('e1071')\n",
    "library('caret')\n",
    "library('tm')"
   ]
  },
  {
   "cell_type": "code",
   "execution_count": 23,
   "metadata": {},
   "outputs": [
    {
     "name": "stdout",
     "output_type": "stream",
     "text": [
      "  cardiac copd diabet diagnos dialysi icdx issu need patient treatment y\n",
      "1       1    1      1       1       0    1    1    0       1         0 0\n",
      "2       0    0      0       0       1    0    0    1       1         1 1\n"
     ]
    }
   ],
   "source": [
    "# Convert to a data.frame for training and assign a classification (factor) to each document.\n",
    "\n",
    "# Training data.\n",
    "data <- c('Patient has diabetes, cardiac issues, COPD, and ICDX51 diagnosed.', 'Patient needs dialysis treatment.')\n",
    "corpus <- VCorpus(VectorSource(data))\n",
    "\n",
    "# Create a document term matrix.\n",
    "tdm <- DocumentTermMatrix(corpus, list(removePunctuation = TRUE, stopwords = TRUE, stemming = TRUE, removeNumbers = TRUE))\n",
    "\n",
    "# Convert to a data.frame for training and assign a classification (factor) to each document.\n",
    "\n",
    "train <- as.matrix(tdm)\n",
    "train <- cbind(train, c(0, 1))\n",
    "\n",
    "colnames(train)[ncol(train)] <- 'y'\n",
    "\n",
    "train <- as.data.frame(train)\n",
    "\n",
    "train$y <- as.factor(train$y)\n",
    "\n",
    "print(train)"
   ]
  },
  {
   "cell_type": "code",
   "execution_count": 21,
   "metadata": {},
   "outputs": [
    {
     "name": "stderr",
     "output_type": "stream",
     "text": [
      "Warning message:\n",
      "\"predictions failed for Resample03: parameter=none Error in family(object)$linkinv(pred) : \n",
      "  Argument eta must be a nonempty numeric vector\n",
      "\"Warning message:\n",
      "\"predictions failed for Resample04: parameter=none Error in family(object)$linkinv(pred) : \n",
      "  Argument eta must be a nonempty numeric vector\n",
      "\"Warning message:\n",
      "\"predictions failed for Resample05: parameter=none Error in family(object)$linkinv(pred) : \n",
      "  Argument eta must be a nonempty numeric vector\n",
      "\"Warning message:\n",
      "\"predictions failed for Resample06: parameter=none Error in family(object)$linkinv(pred) : \n",
      "  Argument eta must be a nonempty numeric vector\n",
      "\"Warning message:\n",
      "\"predictions failed for Resample07: parameter=none Error in family(object)$linkinv(pred) : \n",
      "  Argument eta must be a nonempty numeric vector\n",
      "\"Warning message:\n",
      "\"predictions failed for Resample09: parameter=none Error in family(object)$linkinv(pred) : \n",
      "  Argument eta must be a nonempty numeric vector\n",
      "\"Warning message:\n",
      "\"predictions failed for Resample12: parameter=none Error in family(object)$linkinv(pred) : \n",
      "  Argument eta must be a nonempty numeric vector\n",
      "\"Warning message:\n",
      "\"predictions failed for Resample13: parameter=none Error in family(object)$linkinv(pred) : \n",
      "  Argument eta must be a nonempty numeric vector\n",
      "\"Warning message:\n",
      "\"predictions failed for Resample17: parameter=none Error in family(object)$linkinv(pred) : \n",
      "  Argument eta must be a nonempty numeric vector\n",
      "\"Warning message:\n",
      "\"predictions failed for Resample19: parameter=none Error in family(object)$linkinv(pred) : \n",
      "  Argument eta must be a nonempty numeric vector\n",
      "\"Warning message:\n",
      "\"predictions failed for Resample21: parameter=none Error in family(object)$linkinv(pred) : \n",
      "  Argument eta must be a nonempty numeric vector\n",
      "\"Warning message:\n",
      "\"predictions failed for Resample22: parameter=none Error in family(object)$linkinv(pred) : \n",
      "  Argument eta must be a nonempty numeric vector\n",
      "\"Warning message:\n",
      "\"predictions failed for Resample23: parameter=none Error in family(object)$linkinv(pred) : \n",
      "  Argument eta must be a nonempty numeric vector\n",
      "\"Warning message:\n",
      "\"predictions failed for Resample24: parameter=none Error in family(object)$linkinv(pred) : \n",
      "  Argument eta must be a nonempty numeric vector\n",
      "\"Warning message:\n",
      "\"predictions failed for Resample25: parameter=none Error in family(object)$linkinv(pred) : \n",
      "  Argument eta must be a nonempty numeric vector\n",
      "\"Warning message in nominalTrainWorkflow(x = x, y = y, wts = weights, info = trainInfo, :\n",
      "\"There were missing values in resampled performance measures.\""
     ]
    },
    {
     "name": "stdout",
     "output_type": "stream",
     "text": [
      "[1] 0 1\n",
      "Levels: 0 1\n"
     ]
    }
   ],
   "source": [
    "# Train.\n",
    "fit <- train(y ~ ., data = train, method = 'bayesglm')\n",
    "\n",
    "# Check accuracy on training.\n",
    "print(predict(fit, newdata = train))"
   ]
  },
  {
   "cell_type": "markdown",
   "metadata": {},
   "source": [
    "## Let's try a new sentence.  Does it match one in the corpus?"
   ]
  },
  {
   "cell_type": "code",
   "execution_count": 17,
   "metadata": {
    "collapsed": true
   },
   "outputs": [],
   "source": [
    "# Test data.\n",
    "data2 <- c('Mary Jones shows signs of cardiac stress, and COPD along with other high blood pressure.')\n",
    "corpus <- VCorpus(VectorSource(data2))\n",
    "tdm <- DocumentTermMatrix(corpus, control = list(dictionary = Terms(tdm), removePunctuation = TRUE, stopwords = TRUE, stemming = TRUE, removeNumbers = TRUE))\n",
    "test <- as.matrix(tdm)"
   ]
  },
  {
   "cell_type": "code",
   "execution_count": 18,
   "metadata": {},
   "outputs": [
    {
     "name": "stdout",
     "output_type": "stream",
     "text": [
      "[1] \"Patient has diabetes, cardiac issues, COPD, and ICDX51 diagnosed.\"\n",
      "[2] \"Patient needs dialysis treatment.\"                                \n",
      "[1] \"Mary Jones shows signs of cardiac stress, and COPD along with other high blood pressure.\"\n",
      "    Terms\n",
      "Docs cardiac copd diabet diagnos dialysi icdx issu need patient treatment\n",
      "   1       1    1      0       0       0    0    0    0       0         0\n",
      "[1] \"Is the new sentence like the corpuse ones? 0 = No, 1 = Yes\"\n"
     ]
    },
    {
     "data": {
      "text/html": [
       "0"
      ],
      "text/latex": [
       "0"
      ],
      "text/markdown": [
       "0"
      ],
      "text/plain": [
       "[1] 0\n",
       "Levels: 0 1"
      ]
     },
     "metadata": {},
     "output_type": "display_data"
    }
   ],
   "source": [
    "# Check accuracy on test.\n",
    "# Does the new sentence match the others?\n",
    "print(data)\n",
    "print(data2)\n",
    "print(test)\n",
    "print('Is the new sentence like the corpuse ones? 0 = No, 1 = Yes')\n",
    "predict(fit, newdata = test)"
   ]
  },
  {
   "cell_type": "markdown",
   "metadata": {},
   "source": [
    "### Notice the model identifies matching terms..."
   ]
  },
  {
   "cell_type": "code",
   "execution_count": 24,
   "metadata": {},
   "outputs": [
    {
     "name": "stdout",
     "output_type": "stream",
     "text": [
      "    Terms\n",
      "Docs cardiac copd diabet diagnos dialysi icdx issu need patient treatment\n",
      "   1       0    0      0       0       1    0    0    1       0         1\n"
     ]
    }
   ],
   "source": [
    "print(test)"
   ]
  },
  {
   "cell_type": "markdown",
   "metadata": {},
   "source": [
    "## Another sentence that should match..."
   ]
  },
  {
   "cell_type": "code",
   "execution_count": 19,
   "metadata": {},
   "outputs": [
    {
     "name": "stdout",
     "output_type": "stream",
     "text": [
      "[1] \"Patient has diabetes, cardiac issues, COPD, and ICDX51 diagnosed.\"\n",
      "[2] \"Patient needs dialysis treatment.\"                                \n",
      "[1] \"Joe Smith needs dialysis treatment.\"\n",
      "    Terms\n",
      "Docs cardiac copd diabet diagnos dialysi icdx issu need patient treatment\n",
      "   1       0    0      0       0       1    0    0    1       0         1\n",
      "[1] \"Is the new sentence like the corpuse ones? 0 = No, 1 = Yes\"\n"
     ]
    },
    {
     "data": {
      "text/html": [
       "1"
      ],
      "text/latex": [
       "1"
      ],
      "text/markdown": [
       "1"
      ],
      "text/plain": [
       "[1] 1\n",
       "Levels: 0 1"
      ]
     },
     "metadata": {},
     "output_type": "display_data"
    }
   ],
   "source": [
    "# Another example that does match...\n",
    "data3 <- c('Joe Smith needs dialysis treatment.')\n",
    "corpus <- VCorpus(VectorSource(data3))\n",
    "tdm <- DocumentTermMatrix(corpus, control = list(dictionary = Terms(tdm), removePunctuation = TRUE, stopwords = TRUE, stemming = TRUE, removeNumbers = TRUE))\n",
    "test <- as.matrix(tdm)\n",
    "\n",
    "# Check accuracy on test.\n",
    "# Correctly identify if the new sentence matches the others.\n",
    "print(data)\n",
    "print(data3)\n",
    "print(test)\n",
    "print('Is the new sentence like the corpuse ones? 0 = No, 1 = Yes')\n",
    "predict(fit, newdata = test)"
   ]
  },
  {
   "cell_type": "code",
   "execution_count": null,
   "metadata": {
    "collapsed": true
   },
   "outputs": [],
   "source": []
  }
 ],
 "metadata": {
  "kernelspec": {
   "display_name": "R",
   "language": "R",
   "name": "ir"
  },
  "language_info": {
   "codemirror_mode": "r",
   "file_extension": ".r",
   "mimetype": "text/x-r-source",
   "name": "R",
   "pygments_lexer": "r",
   "version": "3.4.3"
  }
 },
 "nbformat": 4,
 "nbformat_minor": 2
}
