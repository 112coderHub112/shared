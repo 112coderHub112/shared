{
 "cells": [
  {
   "cell_type": "markdown",
   "metadata": {
    "nbpresent": {
     "id": "3c3fcfe2-c42d-4f34-bcaa-e4919c547e6b"
    },
    "slideshow": {
     "slide_type": "slide"
    }
   },
   "source": [
    "<center> <h1>Analyzing Data in R...</h1> </center>\n",
    "<center> <h4> </h4> </center>\n",
    "\n",
    "<div style=\"text-align:left\"><img src=\"r_button.jpg\" alt=\"alt text\" title=\"Title\" height=\"200\" width=\"200\" vertical-align: middle horizontal-align: middle  opacity : 0.2;>\n",
    "</div>\n",
    "\n",
    "<center> <h1>by Bryan Cafferky</h1> </center>"
   ]
  },
  {
   "cell_type": "markdown",
   "metadata": {
    "nbpresent": {
     "id": "41c265f2-e418-4509-a9cb-afdadcf74927"
    },
    "slideshow": {
     "slide_type": "skip"
    }
   },
   "source": [
    "## Analyzing the data...\n",
    "---------"
   ]
  },
  {
   "cell_type": "code",
   "execution_count": 1,
   "metadata": {
    "collapsed": false,
    "nbpresent": {
     "id": "8e19647f-12cc-4925-9ad4-eaa42b23b59c"
    },
    "slideshow": {
     "slide_type": "subslide"
    }
   },
   "outputs": [
    {
     "name": "stdout",
     "output_type": "stream",
     "text": [
      "'data.frame':\t150 obs. of  5 variables:\n",
      " $ Sepal.Length: num  5.1 4.9 ...\n",
      " $ Sepal.Width : num  3.5 3 ...\n",
      " $ Petal.Length: num  1.4 1.4 ...\n",
      " $ Petal.Width : num  0.2 0.2 ...\n",
      " $ Species     : Factor w/ 3 levels \"setosa\",\"versicolor\",..: 1 1 ...\n"
     ]
    }
   ],
   "source": [
    "# Get the data frame structure...\n",
    "str(iris, vec.len=1)"
   ]
  },
  {
   "cell_type": "code",
   "execution_count": 2,
   "metadata": {
    "collapsed": false,
    "nbpresent": {
     "id": "89560c19-f9cb-4446-849b-d1dee933ab1f"
    },
    "slideshow": {
     "slide_type": "subslide"
    }
   },
   "outputs": [
    {
     "data": {
      "text/plain": [
       "  Sepal.Length    Sepal.Width     Petal.Length    Petal.Width   \n",
       " Min.   :4.300   Min.   :2.000   Min.   :1.000   Min.   :0.100  \n",
       " 1st Qu.:5.100   1st Qu.:2.800   1st Qu.:1.600   1st Qu.:0.300  \n",
       " Median :5.800   Median :3.000   Median :4.350   Median :1.300  \n",
       " Mean   :5.843   Mean   :3.057   Mean   :3.758   Mean   :1.199  \n",
       " 3rd Qu.:6.400   3rd Qu.:3.300   3rd Qu.:5.100   3rd Qu.:1.800  \n",
       " Max.   :7.900   Max.   :4.400   Max.   :6.900   Max.   :2.500  \n",
       "       Species  \n",
       " setosa    :50  \n",
       " versicolor:50  \n",
       " virginica :50  \n",
       "                \n",
       "                \n",
       "                "
      ]
     },
     "metadata": {},
     "output_type": "display_data"
    }
   ],
   "source": [
    "# Summary statistics...\n",
    "summary(iris)"
   ]
  },
  {
   "cell_type": "code",
   "execution_count": 4,
   "metadata": {
    "collapsed": false,
    "nbpresent": {
     "id": "6506ca81-3876-4907-9593-00dc799b9de1"
    },
    "slideshow": {
     "slide_type": "slide"
    }
   },
   "outputs": [
    {
     "data": {
      "text/html": [
       "<table>\n",
       "<thead><tr><th></th><th scope=col>Sepal.Length</th><th scope=col>Sepal.Width</th><th scope=col>Petal.Length</th><th scope=col>Petal.Width</th><th scope=col>Species</th></tr></thead>\n",
       "<tbody>\n",
       "\t<tr><th scope=row>1</th><td>5.1   </td><td>3.5   </td><td>1.4   </td><td>0.2   </td><td>setosa</td></tr>\n",
       "\t<tr><th scope=row>2</th><td>4.9   </td><td>3     </td><td>1.4   </td><td>0.2   </td><td>setosa</td></tr>\n",
       "\t<tr><th scope=row>3</th><td>4.7   </td><td>3.2   </td><td>1.3   </td><td>0.2   </td><td>setosa</td></tr>\n",
       "\t<tr><th scope=row>4</th><td>4.6   </td><td>3.1   </td><td>1.5   </td><td>0.2   </td><td>setosa</td></tr>\n",
       "\t<tr><th scope=row>5</th><td>5     </td><td>3.6   </td><td>1.4   </td><td>0.2   </td><td>setosa</td></tr>\n",
       "\t<tr><th scope=row>6</th><td>5.4   </td><td>3.9   </td><td>1.7   </td><td>0.4   </td><td>setosa</td></tr>\n",
       "</tbody>\n",
       "</table>\n"
      ],
      "text/latex": [
       "\\begin{tabular}{r|lllll}\n",
       "  & Sepal.Length & Sepal.Width & Petal.Length & Petal.Width & Species\\\\\n",
       "\\hline\n",
       "\t1 & 5.1    & 3.5    & 1.4    & 0.2    & setosa\\\\\n",
       "\t2 & 4.9    & 3      & 1.4    & 0.2    & setosa\\\\\n",
       "\t3 & 4.7    & 3.2    & 1.3    & 0.2    & setosa\\\\\n",
       "\t4 & 4.6    & 3.1    & 1.5    & 0.2    & setosa\\\\\n",
       "\t5 & 5      & 3.6    & 1.4    & 0.2    & setosa\\\\\n",
       "\t6 & 5.4    & 3.9    & 1.7    & 0.4    & setosa\\\\\n",
       "\\end{tabular}\n"
      ],
      "text/plain": [
       "  Sepal.Length Sepal.Width Petal.Length Petal.Width Species\n",
       "1          5.1         3.5          1.4         0.2  setosa\n",
       "2          4.9         3.0          1.4         0.2  setosa\n",
       "3          4.7         3.2          1.3         0.2  setosa\n",
       "4          4.6         3.1          1.5         0.2  setosa\n",
       "5          5.0         3.6          1.4         0.2  setosa\n",
       "6          5.4         3.9          1.7         0.4  setosa"
      ]
     },
     "metadata": {},
     "output_type": "display_data"
    }
   ],
   "source": [
    "# Get top few rows...\n",
    "head(iris)"
   ]
  },
  {
   "cell_type": "code",
   "execution_count": 5,
   "metadata": {
    "collapsed": false,
    "nbpresent": {
     "id": "7b289a18-082c-4549-9dd4-d0ad68fa0401"
    },
    "slideshow": {
     "slide_type": "slide"
    }
   },
   "outputs": [
    {
     "data": {
      "image/png": "[encoded data removed]",
      "text/plain": [
       "plot without title"
      ]
     },
     "metadata": {
      "image/svg+xml": {
       "isolated": true
      }
     },
     "output_type": "display_data"
    }
   ],
   "source": [
    "# Let's get a scatter plot...\n",
    "plot(iris$Petal.Width,pch=16)"
   ]
  },
  {
   "cell_type": "code",
   "execution_count": 1,
   "metadata": {
    "collapsed": false,
    "nbpresent": {
     "id": "0834c101-4888-4cd8-a91d-12eef33e8051"
    },
    "slideshow": {
     "slide_type": "slide"
    }
   },
   "outputs": [
    {
     "name": "stderr",
     "output_type": "stream",
     "text": [
      "Warning message:\n",
      "In plot.window(xlim, ylim, \"\", ...): \"x.lab\" is not a graphical parameterWarning message:\n",
      "In title(main = main, sub = sub, xlab = xlab, ylab = ylab, ...): \"x.lab\" is not a graphical parameterWarning message:\n",
      "In axis(1, ...): \"x.lab\" is not a graphical parameterWarning message:\n",
      "In axis(2, ...): \"x.lab\" is not a graphical parameter"
     ]
    },
    {
     "data": {
      "image/png": "[encoded data removed]",
      "text/plain": [
       "Plot with title \"Histogram of iris$Petal.Width\""
      ]
     },
     "metadata": {
      "image/svg+xml": {
       "isolated": true
      }
     },
     "output_type": "display_data"
    }
   ],
   "source": [
    "hist(iris$Petal.Width,x.lab=\"petal width\", col=\"green\")"
   ]
  },
  {
   "cell_type": "code",
   "execution_count": 7,
   "metadata": {
    "collapsed": false,
    "nbpresent": {
     "id": "a5bfc791-ea30-4953-b275-c41b956b0de3"
    },
    "slideshow": {
     "slide_type": "slide"
    }
   },
   "outputs": [
    {
     "data": {
      "image/png": "[encoded data removed]",
      "text/plain": [
       "plot without title"
      ]
     },
     "metadata": {
      "image/svg+xml": {
       "isolated": true
      }
     },
     "output_type": "display_data"
    }
   ],
   "source": [
    "boxplot(iris,col=c(\"blue\",\"red\",\"sienna\",\"palevioletred1\",\"blue\"),ylab=\"Centimeters\")"
   ]
  },
  {
   "cell_type": "code",
   "execution_count": 8,
   "metadata": {
    "collapsed": false,
    "nbpresent": {
     "id": "446484bc-0616-4a23-bd27-04da7846d812"
    },
    "slideshow": {
     "slide_type": "slide"
    }
   },
   "outputs": [
    {
     "data": {
      "text/html": [
       "<table>\n",
       "<thead><tr><th></th><th scope=col>iris.Sepal.Length</th><th scope=col>iris.Sepal.Width</th><th scope=col>iris.Petal.Length</th><th scope=col>iris.Petal.Width</th></tr></thead>\n",
       "<tbody>\n",
       "\t<tr><th scope=row>iris.Sepal.Length</th><td> 1.0000000</td><td>-0.1175698</td><td> 0.8717538</td><td> 0.8179411</td></tr>\n",
       "\t<tr><th scope=row>iris.Sepal.Width</th><td>-0.1175698</td><td> 1.0000000</td><td>-0.4284401</td><td>-0.3661259</td></tr>\n",
       "\t<tr><th scope=row>iris.Petal.Length</th><td> 0.8717538</td><td>-0.4284401</td><td> 1.0000000</td><td> 0.9628654</td></tr>\n",
       "\t<tr><th scope=row>iris.Petal.Width</th><td> 0.8179411</td><td>-0.3661259</td><td> 0.9628654</td><td> 1.0000000</td></tr>\n",
       "</tbody>\n",
       "</table>\n"
      ],
      "text/latex": [
       "\\begin{tabular}{r|llll}\n",
       "  & iris.Sepal.Length & iris.Sepal.Width & iris.Petal.Length & iris.Petal.Width\\\\\n",
       "\\hline\n",
       "\tiris.Sepal.Length &  1.0000000 & -0.1175698 &  0.8717538 &  0.8179411\\\\\n",
       "\tiris.Sepal.Width & -0.1175698 &  1.0000000 & -0.4284401 & -0.3661259\\\\\n",
       "\tiris.Petal.Length &  0.8717538 & -0.4284401 &  1.0000000 &  0.9628654\\\\\n",
       "\tiris.Petal.Width &  0.8179411 & -0.3661259 &  0.9628654 &  1.0000000\\\\\n",
       "\\end{tabular}\n"
      ],
      "text/markdown": [
       "1. 1\n",
       "2. -0.117569784133002\n",
       "3. 0.871753775886583\n",
       "4. 0.817941126271576\n",
       "5. -0.117569784133002\n",
       "6. 1\n",
       "7. -0.42844010433054\n",
       "8. -0.366125932536439\n",
       "9. 0.871753775886583\n",
       "10. -0.42844010433054\n",
       "11. 1\n",
       "12. 0.962865431402796\n",
       "13. 0.817941126271576\n",
       "14. -0.366125932536439\n",
       "15. 0.962865431402796\n",
       "16. 1\n",
       "\n",
       "\n"
      ],
      "text/plain": [
       "                  iris.Sepal.Length iris.Sepal.Width iris.Petal.Length\n",
       "iris.Sepal.Length         1.0000000       -0.1175698         0.8717538\n",
       "iris.Sepal.Width         -0.1175698        1.0000000        -0.4284401\n",
       "iris.Petal.Length         0.8717538       -0.4284401         1.0000000\n",
       "iris.Petal.Width          0.8179411       -0.3661259         0.9628654\n",
       "                  iris.Petal.Width\n",
       "iris.Sepal.Length        0.8179411\n",
       "iris.Sepal.Width        -0.3661259\n",
       "iris.Petal.Length        0.9628654\n",
       "iris.Petal.Width         1.0000000"
      ]
     },
     "metadata": {},
     "output_type": "display_data"
    }
   ],
   "source": [
    "myiris <- \n",
    "  data.frame(iris$Sepal.Length,iris$Sepal.Width,\n",
    "             iris$Petal.Length,iris$Petal.Width)\n",
    "\n",
    "d <- data.frame(myiris)\n",
    "dcor <- as.matrix(cor(d))\n",
    "dcor"
   ]
  },
  {
   "cell_type": "code",
   "execution_count": null,
   "metadata": {
    "collapsed": true,
    "nbpresent": {
     "id": "2b0001ec-8f2e-42a4-8f14-59be448558b6"
    }
   },
   "outputs": [],
   "source": []
  }
 ],
 "metadata": {
  "celltoolbar": "Slideshow",
  "kernelspec": {
   "display_name": "R",
   "language": "R",
   "name": "ir"
  },
  "language_info": {
   "codemirror_mode": "r",
   "file_extension": ".r",
   "mimetype": "text/x-r-source",
   "name": "R",
   "pygments_lexer": "r",
   "version": "3.3.1"
  },
  "nbpresent": {
   "slides": {
    "5eeb6e75-00e2-4071-8636-48e879c6c2ac": {
     "id": "5eeb6e75-00e2-4071-8636-48e879c6c2ac",
     "prev": "9558b3dd-a21a-4e09-9144-7b67327ba168",
     "regions": {
      "5f7d2579-5fb0-4c66-b5ed-9361e23fe4bc": {
       "attrs": {
        "height": 0.8,
        "width": 0.8,
        "x": 0.1,
        "y": 0.1
       },
       "content": {
        "cell": "8e19647f-12cc-4925-9ad4-eaa42b23b59c",
        "part": "whole"
       },
       "id": "5f7d2579-5fb0-4c66-b5ed-9361e23fe4bc"
      }
     }
    },
    "743b94a6-9a2b-4210-b3b9-b237bdc8fe77": {
     "id": "743b94a6-9a2b-4210-b3b9-b237bdc8fe77",
     "prev": null,
     "regions": {
      "f25758e3-6baa-49b1-9083-f4b857fdd590": {
       "attrs": {
        "height": 0.8,
        "width": 0.8,
        "x": 0.1,
        "y": 0.1
       },
       "content": {
        "cell": "3c3fcfe2-c42d-4f34-bcaa-e4919c547e6b",
        "part": "whole"
       },
       "id": "f25758e3-6baa-49b1-9083-f4b857fdd590"
      }
     }
    },
    "81c92c6f-8b67-4410-86b0-01d05cd3f293": {
     "id": "81c92c6f-8b67-4410-86b0-01d05cd3f293",
     "prev": "e51c8efa-5258-4636-a2cd-362d5848efc7",
     "regions": {
      "2edbf91f-1794-4d73-ab7a-e7a9529e2313": {
       "attrs": {
        "height": 0.4,
        "width": 0.8,
        "x": 0.1,
        "y": 0.5
       },
       "content": {
        "cell": "2b0001ec-8f2e-42a4-8f14-59be448558b6",
        "part": "whole"
       },
       "id": "2edbf91f-1794-4d73-ab7a-e7a9529e2313"
      },
      "6e221996-f41d-42e5-b094-d25cfec86933": {
       "attrs": {
        "height": 0.8,
        "width": 0.8,
        "x": 0.1,
        "y": 0.1
       },
       "content": {
        "cell": "446484bc-0616-4a23-bd27-04da7846d812",
        "part": "whole"
       },
       "id": "6e221996-f41d-42e5-b094-d25cfec86933"
      }
     }
    },
    "9558b3dd-a21a-4e09-9144-7b67327ba168": {
     "id": "9558b3dd-a21a-4e09-9144-7b67327ba168",
     "prev": "743b94a6-9a2b-4210-b3b9-b237bdc8fe77",
     "regions": {
      "796b7aa7-789b-414f-8e3d-e6c4ba39cf88": {
       "attrs": {
        "height": 0.8,
        "width": 0.8,
        "x": 0.1,
        "y": 0.1
       },
       "content": {
        "cell": "41c265f2-e418-4509-a9cb-afdadcf74927",
        "part": "whole"
       },
       "id": "796b7aa7-789b-414f-8e3d-e6c4ba39cf88"
      }
     }
    },
    "cc12543c-b6eb-44d5-a56c-5a1607864cb5": {
     "id": "cc12543c-b6eb-44d5-a56c-5a1607864cb5",
     "prev": "f7cae50d-78c8-431e-8eab-3c4166dbb54d",
     "regions": {
      "534eccd3-8a44-4c41-95eb-fb85292280fb": {
       "attrs": {
        "height": 0.8,
        "width": 0.8,
        "x": 0.1,
        "y": 0.1
       },
       "content": {
        "cell": "0834c101-4888-4cd8-a91d-12eef33e8051",
        "part": "whole"
       },
       "id": "534eccd3-8a44-4c41-95eb-fb85292280fb"
      }
     }
    },
    "ce657802-2683-4b3e-a1bc-0f40607d4793": {
     "id": "ce657802-2683-4b3e-a1bc-0f40607d4793",
     "prev": "e1c625dc-9162-4e38-b5f8-5aff12a1780b",
     "regions": {
      "dd237868-d724-4f1b-a74e-c6f1b2d071eb": {
       "attrs": {
        "height": 0.8,
        "width": 0.8,
        "x": 0.1,
        "y": 0.1
       },
       "content": {
        "cell": "6506ca81-3876-4907-9593-00dc799b9de1",
        "part": "whole"
       },
       "id": "dd237868-d724-4f1b-a74e-c6f1b2d071eb"
      }
     }
    },
    "e1c625dc-9162-4e38-b5f8-5aff12a1780b": {
     "id": "e1c625dc-9162-4e38-b5f8-5aff12a1780b",
     "prev": "5eeb6e75-00e2-4071-8636-48e879c6c2ac",
     "regions": {
      "6dc4e09a-ddda-4419-8ec7-9945049c3ae8": {
       "attrs": {
        "height": 0.8,
        "width": 0.8,
        "x": 0.1,
        "y": 0.1
       },
       "content": {
        "cell": "89560c19-f9cb-4446-849b-d1dee933ab1f",
        "part": "whole"
       },
       "id": "6dc4e09a-ddda-4419-8ec7-9945049c3ae8"
      }
     }
    },
    "e51c8efa-5258-4636-a2cd-362d5848efc7": {
     "id": "e51c8efa-5258-4636-a2cd-362d5848efc7",
     "prev": "cc12543c-b6eb-44d5-a56c-5a1607864cb5",
     "regions": {
      "ca06cec5-d1c8-44ed-8fbd-311b36b42001": {
       "attrs": {
        "height": 0.8,
        "width": 0.8,
        "x": 0.1,
        "y": 0.1
       },
       "content": {
        "cell": "a5bfc791-ea30-4953-b275-c41b956b0de3",
        "part": "whole"
       },
       "id": "ca06cec5-d1c8-44ed-8fbd-311b36b42001"
      }
     }
    },
    "f7cae50d-78c8-431e-8eab-3c4166dbb54d": {
     "id": "f7cae50d-78c8-431e-8eab-3c4166dbb54d",
     "prev": "ce657802-2683-4b3e-a1bc-0f40607d4793",
     "regions": {
      "730b15a0-4ac5-4b0d-a0ce-d2413e576f89": {
       "attrs": {
        "height": 0.8,
        "width": 0.8,
        "x": 0.1,
        "y": 0.1
       },
       "content": {
        "cell": "7b289a18-082c-4549-9dd4-d0ad68fa0401",
        "part": "whole"
       },
       "id": "730b15a0-4ac5-4b0d-a0ce-d2413e576f89"
      }
     }
    }
   },
   "themes": {}
  }
 },
 "nbformat": 4,
 "nbformat_minor": 0
}
